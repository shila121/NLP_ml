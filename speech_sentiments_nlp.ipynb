{
  "nbformat": 4,
  "nbformat_minor": 0,
  "metadata": {
    "colab": {
      "name": "speech_sentiments_nlp.ipynb",
      "provenance": [],
      "collapsed_sections": [],
      "authorship_tag": "ABX9TyMxESwnnmnz5aAHAGdQy6y+",
      "include_colab_link": true
    },
    "kernelspec": {
      "name": "python3",
      "display_name": "Python 3"
    }
  },
  "cells": [
    {
      "cell_type": "markdown",
      "metadata": {
        "id": "view-in-github",
        "colab_type": "text"
      },
      "source": [
        "<a href=\"https://colab.research.google.com/github/shila121/NLP_ml/blob/main/speech_sentiments_nlp.ipynb\" target=\"_parent\"><img src=\"https://colab.research.google.com/assets/colab-badge.svg\" alt=\"Open In Colab\"/></a>"
      ]
    },
    {
      "cell_type": "code",
      "metadata": {
        "id": "TVHeApTZgfCj"
      },
      "source": [
        ""
      ],
      "execution_count": null,
      "outputs": []
    },
    {
      "cell_type": "code",
      "metadata": {
        "id": "x8K_tcTpg5b-"
      },
      "source": [
        ""
      ],
      "execution_count": null,
      "outputs": []
    },
    {
      "cell_type": "markdown",
      "metadata": {
        "id": "DfXxNRjjg3zz"
      },
      "source": [
        "# Problem Statement: love or hate (sentiment) analysis"
      ]
    },
    {
      "cell_type": "code",
      "metadata": {
        "colab": {
          "base_uri": "https://localhost:8080/"
        },
        "id": "W2-oyoALhCYl",
        "outputId": "0a7964e1-9e19-49fb-bb9e-0839e68148e0"
      },
      "source": [
        "# load libraries\r\n",
        "import pandas as pd\r\n",
        "import numpy as np\r\n",
        "import matplotlib.pyplot as plt\r\n",
        "\r\n",
        "\r\n",
        "#1. load the dataset\r\n",
        "dataset = pd.read_csv('final_dataset_basicmlmodel.csv')\r\n",
        "\r\n",
        "print(dataset.head())\r\n"
      ],
      "execution_count": 2,
      "outputs": [
        {
          "output_type": "stream",
          "text": [
            "   id  label                                              tweet\n",
            "0   1      0   @user when a father is dysfunctional and is s...\n",
            "1   2      0  @user @user thanks for #lyft credit i can't us...\n",
            "2   3      0                                bihday your majesty\n",
            "3   4      0  #model   i love u take with u all the time in ...\n",
            "4   5      0             factsguide: society now    #motivation\n"
          ],
          "name": "stdout"
        }
      ]
    },
    {
      "cell_type": "code",
      "metadata": {
        "colab": {
          "base_uri": "https://localhost:8080/"
        },
        "id": "PnP8pRo5ha8L",
        "outputId": "0112f9ca-9474-44cf-e755-3d269f526ee5"
      },
      "source": [
        "# label column indicates hate or love speech\r\n",
        "# tweet column represents text sentences containing sentiments of the users\r\n",
        "\r\n",
        "for index,tweet in enumerate(dataset['tweet'][10:20]):\r\n",
        "  print(index+1,'.',tweet)"
      ],
      "execution_count": 3,
      "outputs": [
        {
          "output_type": "stream",
          "text": [
            "1 .  â #ireland consumer price index (mom) climbed from previous 0.2% to 0.5% in may   #blog #silver #gold #forex\n",
            "2 . we are so selfish. #orlando #standwithorlando #pulseshooting #orlandoshooting #biggerproblems #selfish #heabreaking   #values #love #\n",
            "3 . i get to see my daddy today!!   #80days #gettingfed\n",
            "4 . ouch...junior is angryð#got7 #junior #yugyoem   #omg \n",
            "5 . i am thankful for having a paner. #thankful #positive     \n",
            "6 . its #friday! ð smiles all around via ig user: @user #cookies make people   \n",
            "7 . as we all know, essential oils are not made of chemicals. \n",
            "8 . #euro2016 people blaming ha for conceded goal was it fat rooney who gave away free kick knowing bale can hit them from there.  \n",
            "9 . sad little dude..   #badday #coneofshame #cats #pissed #funny #laughs \n",
            "10 . product of the day: happy man #wine tool  who's   it's the #weekend? time to open up &amp; drink up!\n"
          ],
          "name": "stdout"
        }
      ]
    },
    {
      "cell_type": "code",
      "metadata": {
        "id": "j0m-euO_iOQD"
      },
      "source": [
        "# 2.Data cleaning/Text cleaning\r\n",
        "#  '#' needs to be cleaned\r\n",
        "# unicode symbols are there that needs to be removed.\r\n",
        "# numeric percentage symbols are there that needs to be removed\r\n",
        "\r\n",
        "import re\r\n",
        "\r\n",
        "def clean_text(text):\r\n",
        "\r\n",
        "  # filter to allow only alphabets\r\n",
        "  text = re.sub(r'[^a-zA-Z\\']',' ',text)\r\n",
        "\r\n",
        "  # remove unicode characters\r\n",
        "  text = re.sub(r'[^x00-\\x7F]+',' ',text)\r\n",
        "\r\n",
        "  # convert to lower case to maintain consistency\r\n",
        "  text = text.lower()\r\n",
        "\r\n",
        "  return text\r\n"
      ],
      "execution_count": 7,
      "outputs": []
    },
    {
      "cell_type": "code",
      "metadata": {
        "colab": {
          "base_uri": "https://localhost:8080/",
          "height": 419
        },
        "id": "Q-50fOZykP8S",
        "outputId": "21919742-c3e5-40fb-feaa-2f552834e9f3"
      },
      "source": [
        "dataset['clean_text'] = dataset.tweet.apply(lambda x:clean_text(x))\r\n",
        "dataset"
      ],
      "execution_count": 8,
      "outputs": [
        {
          "output_type": "execute_result",
          "data": {
            "text/html": [
              "<div>\n",
              "<style scoped>\n",
              "    .dataframe tbody tr th:only-of-type {\n",
              "        vertical-align: middle;\n",
              "    }\n",
              "\n",
              "    .dataframe tbody tr th {\n",
              "        vertical-align: top;\n",
              "    }\n",
              "\n",
              "    .dataframe thead th {\n",
              "        text-align: right;\n",
              "    }\n",
              "</style>\n",
              "<table border=\"1\" class=\"dataframe\">\n",
              "  <thead>\n",
              "    <tr style=\"text-align: right;\">\n",
              "      <th></th>\n",
              "      <th>id</th>\n",
              "      <th>label</th>\n",
              "      <th>tweet</th>\n",
              "      <th>clean_text</th>\n",
              "    </tr>\n",
              "  </thead>\n",
              "  <tbody>\n",
              "    <tr>\n",
              "      <th>0</th>\n",
              "      <td>1</td>\n",
              "      <td>0</td>\n",
              "      <td>@user when a father is dysfunctional and is s...</td>\n",
              "      <td>user when a father is dysfunctional and is so...</td>\n",
              "    </tr>\n",
              "    <tr>\n",
              "      <th>1</th>\n",
              "      <td>2</td>\n",
              "      <td>0</td>\n",
              "      <td>@user @user thanks for #lyft credit i can't us...</td>\n",
              "      <td>user user thanks for lyft credit i can t use ...</td>\n",
              "    </tr>\n",
              "    <tr>\n",
              "      <th>2</th>\n",
              "      <td>3</td>\n",
              "      <td>0</td>\n",
              "      <td>bihday your majesty</td>\n",
              "      <td>bihday your majesty</td>\n",
              "    </tr>\n",
              "    <tr>\n",
              "      <th>3</th>\n",
              "      <td>4</td>\n",
              "      <td>0</td>\n",
              "      <td>#model   i love u take with u all the time in ...</td>\n",
              "      <td>model i love u take with u all the time in ur</td>\n",
              "    </tr>\n",
              "    <tr>\n",
              "      <th>4</th>\n",
              "      <td>5</td>\n",
              "      <td>0</td>\n",
              "      <td>factsguide: society now    #motivation</td>\n",
              "      <td>factsguide society now motivation</td>\n",
              "    </tr>\n",
              "    <tr>\n",
              "      <th>...</th>\n",
              "      <td>...</td>\n",
              "      <td>...</td>\n",
              "      <td>...</td>\n",
              "      <td>...</td>\n",
              "    </tr>\n",
              "    <tr>\n",
              "      <th>5237</th>\n",
              "      <td>31935</td>\n",
              "      <td>1</td>\n",
              "      <td>lady banned from kentucky mall. @user  #jcpenn...</td>\n",
              "      <td>lady banned from kentucky mall user jcpenny ke...</td>\n",
              "    </tr>\n",
              "    <tr>\n",
              "      <th>5238</th>\n",
              "      <td>31947</td>\n",
              "      <td>1</td>\n",
              "      <td>@user omfg i'm offended! i'm a  mailbox and i'...</td>\n",
              "      <td>user omfg i m offended i m a mailbox and i m ...</td>\n",
              "    </tr>\n",
              "    <tr>\n",
              "      <th>5239</th>\n",
              "      <td>31948</td>\n",
              "      <td>1</td>\n",
              "      <td>@user @user you don't have the balls to hashta...</td>\n",
              "      <td>user user you don t have the balls to hashtag...</td>\n",
              "    </tr>\n",
              "    <tr>\n",
              "      <th>5240</th>\n",
              "      <td>31949</td>\n",
              "      <td>1</td>\n",
              "      <td>makes you ask yourself, who am i? then am i a...</td>\n",
              "      <td>makes you ask yourself who am i then am i any...</td>\n",
              "    </tr>\n",
              "    <tr>\n",
              "      <th>5241</th>\n",
              "      <td>31961</td>\n",
              "      <td>1</td>\n",
              "      <td>@user #sikh #temple vandalised in in #calgary,...</td>\n",
              "      <td>user sikh temple vandalised in in calgary wso...</td>\n",
              "    </tr>\n",
              "  </tbody>\n",
              "</table>\n",
              "<p>5242 rows × 4 columns</p>\n",
              "</div>"
            ],
            "text/plain": [
              "         id  ...                                         clean_text\n",
              "0         1  ...   user when a father is dysfunctional and is so...\n",
              "1         2  ...   user user thanks for lyft credit i can t use ...\n",
              "2         3  ...                                bihday your majesty\n",
              "3         4  ...     model i love u take with u all the time in ur \n",
              "4         5  ...                  factsguide society now motivation\n",
              "...     ...  ...                                                ...\n",
              "5237  31935  ...  lady banned from kentucky mall user jcpenny ke...\n",
              "5238  31947  ...   user omfg i m offended i m a mailbox and i m ...\n",
              "5239  31948  ...   user user you don t have the balls to hashtag...\n",
              "5240  31949  ...   makes you ask yourself who am i then am i any...\n",
              "5241  31961  ...   user sikh temple vandalised in in calgary wso...\n",
              "\n",
              "[5242 rows x 4 columns]"
            ]
          },
          "metadata": {
            "tags": []
          },
          "execution_count": 8
        }
      ]
    },
    {
      "cell_type": "code",
      "metadata": {
        "id": "VqDPRn2vkhHp"
      },
      "source": [
        "# 3.Feature engineering\r\n",
        "#Exhaustive list of stopwords in the english language. We want to focus less on these so at some point will have to filter\r\n",
        "STOP_WORDS = ['a', 'about', 'above', 'after', 'again', 'against', 'all', 'also', 'am', 'an', 'and',\r\n",
        "              'any', 'are', \"aren't\", 'as', 'at', 'be', 'because', 'been', 'before', 'being', 'below',\r\n",
        "              'between', 'both', 'but', 'by', 'can', \"can't\", 'cannot', 'com', 'could', \"couldn't\", 'did',\r\n",
        "              \"didn't\", 'do', 'does', \"doesn't\", 'doing', \"don't\", 'down', 'during', 'each', 'else', 'ever',\r\n",
        "              'few', 'for', 'from', 'further', 'get', 'had', \"hadn't\", 'has', \"hasn't\", 'have', \"haven't\", 'having',\r\n",
        "              'he', \"he'd\", \"he'll\", \"he's\", 'her', 'here', \"here's\", 'hers', 'herself', 'him', 'himself', 'his', 'how',\r\n",
        "              \"how's\", 'however', 'http', 'i', \"i'd\", \"i'll\", \"i'm\", \"i've\", 'if', 'in', 'into', 'is', \"isn't\", 'it',\r\n",
        "              \"it's\", 'its', 'itself', 'just', 'k', \"let's\", 'like', 'me', 'more', 'most', \"mustn't\", 'my', 'myself',\r\n",
        "              'no', 'nor', 'not', 'of', 'off', 'on', 'once', 'only', 'or', 'other', 'otherwise', 'ought', 'our', 'ours',\r\n",
        "              'ourselves', 'out', 'over', 'own', 'r', 'same', 'shall', \"shan't\", 'she', \"she'd\", \"she'll\", \"she's\",\r\n",
        "              'should', \"shouldn't\", 'since', 'so', 'some', 'such', 'than', 'that', \"that's\", 'the', 'their', 'theirs',\r\n",
        "              'them', 'themselves', 'then', 'there', \"there's\", 'these', 'they', \"they'd\", \"they'll\", \"they're\",\r\n",
        "              \"they've\", 'this', 'those', 'through', 'to', 'too', 'under', 'until', 'up', 'very', 'was', \"wasn't\",\r\n",
        "              'we', \"we'd\", \"we'll\", \"we're\", \"we've\", 'were', \"weren't\", 'what', \"what's\", 'when', \"when's\", 'where',\r\n",
        "              \"where's\", 'which', 'while', 'who', \"who's\", 'whom', 'why', \"why's\", 'with', \"won't\", 'would', \"wouldn't\",\r\n",
        "              'www', 'you', \"you'd\", \"you'll\", \"you're\", \"you've\", 'your', 'yours', 'yourself', 'yourselves']\r\n",
        "\r\n"
      ],
      "execution_count": 9,
      "outputs": []
    },
    {
      "cell_type": "code",
      "metadata": {
        "id": "JGsX-q2jlihA"
      },
      "source": [
        "# generate word frequency\r\n",
        "\r\n",
        "def gen_freq(text):\r\n",
        "\r\n",
        "  word_list = []\r\n",
        "\r\n",
        "  for i in text.split():\r\n",
        "    word_list.extend(i)\r\n",
        "\r\n",
        "  word_freq = pd.Series(word_list).value_counts()\r\n",
        "\r\n",
        "  word_freq = word_freq.drop(STOP_WORDS,errors = 'ignore')\r\n",
        "\r\n",
        "  return word_freq\r\n",
        "\r\n",
        "# check if any negation term is present\r\n",
        "def any_neg(words):\r\n",
        "  for word in words:\r\n",
        "    if word in ['n', 'no', 'non', 'not'] or re.search(r\"\\wn't\", word):\r\n",
        "      return 1\r\n",
        "    else:\r\n",
        "      return 0\r\n",
        "\r\n",
        "# check whethr one of the 100 rare words are present\r\n",
        "\r\n",
        "def any_rare(words,rare_100):\r\n",
        "  for word in words:\r\n",
        "    if word in rare_100:\r\n",
        "      return 1\r\n",
        "    else:\r\n",
        "      return 0\r\n",
        "\r\n",
        "# check whether prompt words are present \r\n",
        "def is_question(words):\r\n",
        "  for word in words:\r\n",
        "    if word in ['when', 'what', 'how', 'why', 'who']:\r\n",
        "      return 1\r\n",
        "    else:\r\n",
        "      return 0\r\n",
        "\r\n",
        "      \r\n",
        "\r\n"
      ],
      "execution_count": 11,
      "outputs": []
    },
    {
      "cell_type": "code",
      "metadata": {
        "id": "Z-HTTxvZmVEf"
      },
      "source": [
        "word_freq = gen_freq(dataset.clean_text.str)\r\n",
        "#100 most rare words in the dataset\r\n",
        "rare_100 = word_freq[-100:]\r\n",
        "#Number of words in a tweet\r\n",
        "dataset['word_count'] = dataset.clean_text.str.split().apply(lambda x: len(x))\r\n",
        "#Negation present or not\r\n",
        "dataset['any_neg'] = dataset.clean_text.str.split().apply(lambda x: any_neg(x))\r\n",
        "#Prompt present or not\r\n",
        "dataset['is_question'] = dataset.clean_text.str.split().apply(lambda x: is_question(x))\r\n",
        "#Any of the most 100 rare words present or not\r\n",
        "dataset['any_rare'] = dataset.clean_text.str.split().apply(lambda x: any_rare(x, rare_100))\r\n",
        "#Character count of the tweet\r\n",
        "dataset['char_count'] = dataset.clean_text.apply(lambda x: len(x))"
      ],
      "execution_count": 12,
      "outputs": []
    },
    {
      "cell_type": "code",
      "metadata": {
        "colab": {
          "base_uri": "https://localhost:8080/"
        },
        "id": "RRfn0auunigF",
        "outputId": "a1c5e648-ac2a-4ac2-f53c-701e200b8a85"
      },
      "source": [
        "#Top 10 common words are\r\n",
        "gen_freq(dataset.clean_text.str)[:10]"
      ],
      "execution_count": 13,
      "outputs": [
        {
          "output_type": "execute_result",
          "data": {
            "text/plain": [
              "user      3351\n",
              "s          608\n",
              "amp        439\n",
              "t          418\n",
              "love       320\n",
              "day        259\n",
              "trump      225\n",
              "happy      208\n",
              "will       191\n",
              "people     189\n",
              "dtype: int64"
            ]
          },
          "metadata": {
            "tags": []
          },
          "execution_count": 13
        }
      ]
    },
    {
      "cell_type": "code",
      "metadata": {
        "colab": {
          "base_uri": "https://localhost:8080/",
          "height": 272
        },
        "id": "kobwW_KSnmRX",
        "outputId": "4474c64a-6087-4037-88e2-83b1c27395ae"
      },
      "source": [
        "dataset.head()"
      ],
      "execution_count": 14,
      "outputs": [
        {
          "output_type": "execute_result",
          "data": {
            "text/html": [
              "<div>\n",
              "<style scoped>\n",
              "    .dataframe tbody tr th:only-of-type {\n",
              "        vertical-align: middle;\n",
              "    }\n",
              "\n",
              "    .dataframe tbody tr th {\n",
              "        vertical-align: top;\n",
              "    }\n",
              "\n",
              "    .dataframe thead th {\n",
              "        text-align: right;\n",
              "    }\n",
              "</style>\n",
              "<table border=\"1\" class=\"dataframe\">\n",
              "  <thead>\n",
              "    <tr style=\"text-align: right;\">\n",
              "      <th></th>\n",
              "      <th>id</th>\n",
              "      <th>label</th>\n",
              "      <th>tweet</th>\n",
              "      <th>clean_text</th>\n",
              "      <th>word_count</th>\n",
              "      <th>any_neg</th>\n",
              "      <th>is_question</th>\n",
              "      <th>any_rare</th>\n",
              "      <th>char_count</th>\n",
              "    </tr>\n",
              "  </thead>\n",
              "  <tbody>\n",
              "    <tr>\n",
              "      <th>0</th>\n",
              "      <td>1</td>\n",
              "      <td>0</td>\n",
              "      <td>@user when a father is dysfunctional and is s...</td>\n",
              "      <td>user when a father is dysfunctional and is so...</td>\n",
              "      <td>18</td>\n",
              "      <td>0</td>\n",
              "      <td>0</td>\n",
              "      <td>0</td>\n",
              "      <td>97</td>\n",
              "    </tr>\n",
              "    <tr>\n",
              "      <th>1</th>\n",
              "      <td>2</td>\n",
              "      <td>0</td>\n",
              "      <td>@user @user thanks for #lyft credit i can't us...</td>\n",
              "      <td>user user thanks for lyft credit i can t use ...</td>\n",
              "      <td>21</td>\n",
              "      <td>0</td>\n",
              "      <td>0</td>\n",
              "      <td>0</td>\n",
              "      <td>114</td>\n",
              "    </tr>\n",
              "    <tr>\n",
              "      <th>2</th>\n",
              "      <td>3</td>\n",
              "      <td>0</td>\n",
              "      <td>bihday your majesty</td>\n",
              "      <td>bihday your majesty</td>\n",
              "      <td>3</td>\n",
              "      <td>0</td>\n",
              "      <td>0</td>\n",
              "      <td>0</td>\n",
              "      <td>20</td>\n",
              "    </tr>\n",
              "    <tr>\n",
              "      <th>3</th>\n",
              "      <td>4</td>\n",
              "      <td>0</td>\n",
              "      <td>#model   i love u take with u all the time in ...</td>\n",
              "      <td>model i love u take with u all the time in ur</td>\n",
              "      <td>12</td>\n",
              "      <td>0</td>\n",
              "      <td>0</td>\n",
              "      <td>0</td>\n",
              "      <td>47</td>\n",
              "    </tr>\n",
              "    <tr>\n",
              "      <th>4</th>\n",
              "      <td>5</td>\n",
              "      <td>0</td>\n",
              "      <td>factsguide: society now    #motivation</td>\n",
              "      <td>factsguide society now motivation</td>\n",
              "      <td>4</td>\n",
              "      <td>0</td>\n",
              "      <td>0</td>\n",
              "      <td>0</td>\n",
              "      <td>34</td>\n",
              "    </tr>\n",
              "  </tbody>\n",
              "</table>\n",
              "</div>"
            ],
            "text/plain": [
              "   id  label  ... any_rare char_count\n",
              "0   1      0  ...        0         97\n",
              "1   2      0  ...        0        114\n",
              "2   3      0  ...        0         20\n",
              "3   4      0  ...        0         47\n",
              "4   5      0  ...        0         34\n",
              "\n",
              "[5 rows x 9 columns]"
            ]
          },
          "metadata": {
            "tags": []
          },
          "execution_count": 14
        }
      ]
    },
    {
      "cell_type": "code",
      "metadata": {
        "id": "sTcBeMivnqSh"
      },
      "source": [
        "# 4.split the dataset to train_test\r\n",
        "X = dataset[['word_count', 'any_neg', 'any_rare', 'char_count', 'is_question']]\r\n",
        "y = dataset.label\r\n",
        "\r\n",
        "from sklearn.model_selection import train_test_split\r\n",
        "X_train,X_test,y_train,y_test = train_test_split(X,y,test_size = 0.1,random_state = 27)\r\n",
        "\r\n"
      ],
      "execution_count": 15,
      "outputs": []
    },
    {
      "cell_type": "code",
      "metadata": {
        "id": "ZvQGhvK-qJCN"
      },
      "source": [
        "# import the machine learning model\r\n",
        "from sklearn.naive_bayes import GaussianNB\r\n",
        "model = GaussianNB()\r\n",
        "model = model.fit(X_train,y_train)\r\n",
        "\r\n",
        "# make predictions\r\n",
        "y_pred = model.predict(X_test)\r\n"
      ],
      "execution_count": 16,
      "outputs": []
    },
    {
      "cell_type": "code",
      "metadata": {
        "colab": {
          "base_uri": "https://localhost:8080/"
        },
        "id": "tQea8Istq6ap",
        "outputId": "10c1fed6-bec2-46c1-ecb6-be42e84f3de7"
      },
      "source": [
        "# 5. Evaluate the model\r\n",
        "from sklearn.metrics import accuracy_score\r\n",
        "\r\n",
        "print('accuracy:',accuracy_score(y_test,y_pred)*100,'%')\r\n"
      ],
      "execution_count": 18,
      "outputs": [
        {
          "output_type": "stream",
          "text": [
            "accuracy: 57.52380952380952 %\n"
          ],
          "name": "stdout"
        }
      ]
    },
    {
      "cell_type": "code",
      "metadata": {
        "colab": {
          "base_uri": "https://localhost:8080/"
        },
        "id": "2GclT-NnrR6Z",
        "outputId": "b90cad4c-737a-4ca4-bb8c-4ef1c1dc6232"
      },
      "source": [
        "print('accuracy:',accuracy_score(y_pred,y_test)*100,'%')"
      ],
      "execution_count": 19,
      "outputs": [
        {
          "output_type": "stream",
          "text": [
            "accuracy: 57.52380952380952 %\n"
          ],
          "name": "stdout"
        }
      ]
    },
    {
      "cell_type": "code",
      "metadata": {
        "id": "7aNjtgXnrY99"
      },
      "source": [
        ""
      ],
      "execution_count": null,
      "outputs": []
    }
  ]
}